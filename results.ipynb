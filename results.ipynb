{
 "cells": [
  {
   "cell_type": "code",
   "execution_count": 30,
   "metadata": {
    "collapsed": true
   },
   "outputs": [],
   "source": [
    "%matplotlib inline\n",
    "from __future__ import division\n",
    "import matplotlib.pylab as plt\n",
    "import pandas as pd\n",
    "import numpy as np\n",
    "from collections import Counter"
   ]
  },
  {
   "cell_type": "markdown",
   "metadata": {},
   "source": [
    "# Experiment 1"
   ]
  },
  {
   "cell_type": "markdown",
   "metadata": {},
   "source": [
    "## Success Rates"
   ]
  },
  {
   "cell_type": "code",
   "execution_count": 22,
   "metadata": {
    "collapsed": false
   },
   "outputs": [],
   "source": [
    "flist = ['log_48_r1.1','log_48_r1.2','log_100_r2','log_148_r3','log_148_r4','log_200_r5','log_200_r6','log_100_r7','log_200_r8']"
   ]
  },
  {
   "cell_type": "code",
   "execution_count": 23,
   "metadata": {
    "collapsed": false
   },
   "outputs": [
    {
     "name": "stdout",
     "output_type": "stream",
     "text": [
      "log_48_r1.1\n",
      "log_48_r1.2\n",
      "log_100_r2\n",
      "log_148_r3\n",
      "log_148_r4\n",
      "log_200_r5\n",
      "log_200_r6\n",
      "log_100_r7\n",
      "log_200_r8\n"
     ]
    }
   ],
   "source": [
    "logs = []\n",
    "for f in flist:\n",
    "    dflog = pd.read_csv('./EvalExp1/original_logs_acl2016/'+f+'_df.csv')\n",
    "    print f\n",
    "    dflog['log'] = [f]*len(dflog)\n",
    "    logs.append(dflog)"
   ]
  },
  {
   "cell_type": "code",
   "execution_count": 24,
   "metadata": {
    "collapsed": true
   },
   "outputs": [],
   "source": [
    "all_logs = pd.concat(logs)"
   ]
  },
  {
   "cell_type": "code",
   "execution_count": 25,
   "metadata": {
    "collapsed": false
   },
   "outputs": [
    {
     "data": {
      "text/plain": [
       "{False, True, '0', 'False', 'True'}"
      ]
     },
     "execution_count": 25,
     "metadata": {},
     "output_type": "execute_result"
    }
   ],
   "source": [
    "set(all_logs['success'])"
   ]
  },
  {
   "cell_type": "code",
   "execution_count": 26,
   "metadata": {
    "collapsed": false
   },
   "outputs": [
    {
     "data": {
      "text/plain": [
       "{'False', 'True'}"
      ]
     },
     "execution_count": 26,
     "metadata": {},
     "output_type": "execute_result"
    }
   ],
   "source": [
    "suc = []\n",
    "for s in all_logs['success']:\n",
    "    if s == True:\n",
    "        suc.append('True')\n",
    "    elif s == False:\n",
    "        suc.append('False')\n",
    "    elif s == '0':\n",
    "        suc.append('False')\n",
    "    else:\n",
    "        suc.append(s)\n",
    "        \n",
    "set(suc)"
   ]
  },
  {
   "cell_type": "code",
   "execution_count": 27,
   "metadata": {
    "collapsed": false
   },
   "outputs": [
    {
     "data": {
      "text/plain": [
       "{'False', 'True'}"
      ]
     },
     "execution_count": 27,
     "metadata": {},
     "output_type": "execute_result"
    }
   ],
   "source": [
    "all_logs['success'] = suc\n",
    "set(all_logs['success'])"
   ]
  },
  {
   "cell_type": "code",
   "execution_count": 28,
   "metadata": {
    "collapsed": false
   },
   "outputs": [
    {
     "name": "stdout",
     "output_type": "stream",
     "text": [
      "gold\n",
      "293 298 329\n",
      "Overall success rate 0.98322147651\n",
      "First trial success rate 0.906040268456\n",
      "Average clicks in succseful trials 1.1228668942\n",
      "Average clicks 1.14765100671\n",
      "A 107 108 0.990740740741\n",
      "B 104 105 0.990476190476\n",
      "C 82 85 0.964705882353\n",
      "saia\n",
      "138 298 199\n",
      "Overall success rate 0.463087248322\n",
      "First trial success rate 0.322147651007\n",
      "Average clicks in succseful trials 1.44202898551\n",
      "Average clicks 2.13758389262\n",
      "A 35 98 0.357142857143\n",
      "B 60 94 0.63829787234\n",
      "C 43 106 0.405660377358\n",
      "google\n",
      "176 298 246\n",
      "Overall success rate 0.590604026846\n",
      "First trial success rate 0.41610738255\n",
      "Average clicks in succseful trials 1.39772727273\n",
      "Average clicks 2.0\n",
      "A 49 86 0.56976744186\n",
      "B 67 99 0.676767676768\n",
      "C 60 113 0.530973451327\n",
      "google_glen\n",
      "175 298 262\n",
      "Overall success rate 0.587248322148\n",
      "First trial success rate 0.375838926174\n",
      "Average clicks in succseful trials 1.49714285714\n",
      "Average clicks 2.04362416107\n",
      "A 51 102 0.5\n",
      "B 71 96 0.739583333333\n",
      "C 53 100 0.53\n"
     ]
    }
   ],
   "source": [
    "total_success = []\n",
    "first_success = []\n",
    "second_success = []\n",
    "\n",
    "a_success = []\n",
    "b_success = []\n",
    "c_success = []\n",
    "\n",
    "for system in ['gold','saia','google','google_glen']:\n",
    "    print system\n",
    "    succ = len(all_logs[(all_logs['system'] == system) & (all_logs['success'] == 'True')])\n",
    "    first_succ = len(all_logs[(all_logs['system'] == system) & (all_logs['success'] == 'True') & (all_logs['clicks'] == 1)])\n",
    "    second_succ = len(all_logs[(all_logs['system'] == system) & (all_logs['success'] == 'True') & (all_logs['clicks'] <= 2)])\n",
    "\n",
    "    \n",
    "    succa = len(all_logs[(all_logs['system'] == system) & (all_logs['success'] == 'True') \\\n",
    "                         & (all_logs['testset'] == 'A')])\n",
    "    totala = len(all_logs[(all_logs['system'] == system) & (all_logs['testset'] == 'A')])\n",
    "    succ = len(all_logs[(all_logs['system'] == system) & (all_logs['success'] == 'True')])\n",
    "    succb = len(all_logs[(all_logs['system'] == system) & (all_logs['success'] == 'True') \\\n",
    "                         & (all_logs['testset'] == 'B')])\n",
    "    totalb = len(all_logs[(all_logs['system'] == system) & (all_logs['testset'] == 'B')])\n",
    "    succc = len(all_logs[(all_logs['system'] == system) & (all_logs['success'] == 'True') \\\n",
    "                         & (all_logs['testset'] == 'C')])\n",
    "    totalc = len(all_logs[(all_logs['system'] == system) & (all_logs['testset'] == 'C')])\n",
    "    \n",
    "    total = len(all_logs[(all_logs['system'] == system)])\n",
    "    clicks = sum(all_logs[(all_logs['system'] == system) & (all_logs['success'] == 'True')]['clicks'])\n",
    "    allclicks = sum(all_logs[(all_logs['system'] == system) ]['clicks'])\n",
    "    \n",
    "    print succ,total,clicks\n",
    "    print \"Overall success rate\", succ/float(total)\n",
    "    print \"First trial success rate\", first_succ/float(total)\n",
    "    print \"Average clicks in succseful trials\", clicks/float(succ)\n",
    "    print \"Average clicks\",allclicks/float(total)\n",
    "    print \"A\",succa,totala,succa/float(totala)\n",
    "    print \"B\",succb,totalb,succb/float(totalb)\n",
    "    print \"C\",succc,totalc,succc/float(totalc)\n",
    "    \n",
    "    total_success.append(succ/float(total))\n",
    "    first_success.append(first_succ/float(total))\n",
    "    second_success.append(second_succ/float(total))\n",
    "    \n",
    "    a_success.append(succa/float(totala))\n",
    "    b_success.append(succb/float(totalb))\n",
    "    c_success.append(succc/float(totalc))\n",
    "    \n",
    "systems = ['gold','saia','google','google_glen']\n",
    "d = {'total_success':pd.Series(total_success,index=systems), \\\n",
    "     'first_success':pd.Series(first_success,index=systems), \\\n",
    "     'second_success':pd.Series(second_success,index=systems), \\\n",
    "     'A_success':pd.Series(a_success,index=systems),\\\n",
    "     'B_success':pd.Series(b_success,index=systems),\\\n",
    "     'C_success':pd.Series(c_success,index=systems)}\n",
    "\n",
    "evaldf = pd.DataFrame(d)"
   ]
  },
  {
   "cell_type": "code",
   "execution_count": 29,
   "metadata": {
    "collapsed": false
   },
   "outputs": [
    {
     "data": {
      "text/html": [
       "<div>\n",
       "<table border=\"1\" class=\"dataframe\">\n",
       "  <thead>\n",
       "    <tr style=\"text-align: right;\">\n",
       "      <th></th>\n",
       "      <th>A_success</th>\n",
       "      <th>B_success</th>\n",
       "      <th>C_success</th>\n",
       "      <th>first_success</th>\n",
       "      <th>second_success</th>\n",
       "      <th>total_success</th>\n",
       "    </tr>\n",
       "  </thead>\n",
       "  <tbody>\n",
       "    <tr>\n",
       "      <th>gold</th>\n",
       "      <td>0.990741</td>\n",
       "      <td>0.990476</td>\n",
       "      <td>0.964706</td>\n",
       "      <td>0.906040</td>\n",
       "      <td>0.946309</td>\n",
       "      <td>0.983221</td>\n",
       "    </tr>\n",
       "    <tr>\n",
       "      <th>saia</th>\n",
       "      <td>0.357143</td>\n",
       "      <td>0.638298</td>\n",
       "      <td>0.405660</td>\n",
       "      <td>0.322148</td>\n",
       "      <td>0.402685</td>\n",
       "      <td>0.463087</td>\n",
       "    </tr>\n",
       "    <tr>\n",
       "      <th>google</th>\n",
       "      <td>0.569767</td>\n",
       "      <td>0.676768</td>\n",
       "      <td>0.530973</td>\n",
       "      <td>0.416107</td>\n",
       "      <td>0.533557</td>\n",
       "      <td>0.590604</td>\n",
       "    </tr>\n",
       "    <tr>\n",
       "      <th>google_glen</th>\n",
       "      <td>0.500000</td>\n",
       "      <td>0.739583</td>\n",
       "      <td>0.530000</td>\n",
       "      <td>0.375839</td>\n",
       "      <td>0.510067</td>\n",
       "      <td>0.587248</td>\n",
       "    </tr>\n",
       "  </tbody>\n",
       "</table>\n",
       "</div>"
      ],
      "text/plain": [
       "             A_success  B_success  C_success  first_success  second_success  \\\n",
       "gold          0.990741   0.990476   0.964706       0.906040        0.946309   \n",
       "saia          0.357143   0.638298   0.405660       0.322148        0.402685   \n",
       "google        0.569767   0.676768   0.530973       0.416107        0.533557   \n",
       "google_glen   0.500000   0.739583   0.530000       0.375839        0.510067   \n",
       "\n",
       "             total_success  \n",
       "gold              0.983221  \n",
       "saia              0.463087  \n",
       "google            0.590604  \n",
       "google_glen       0.587248  "
      ]
     },
     "execution_count": 29,
     "metadata": {},
     "output_type": "execute_result"
    }
   ],
   "source": [
    "evaldf"
   ]
  },
  {
   "cell_type": "code",
   "execution_count": null,
   "metadata": {
    "collapsed": true
   },
   "outputs": [],
   "source": []
  },
  {
   "cell_type": "code",
   "execution_count": 17,
   "metadata": {
    "collapsed": false
   },
   "outputs": [],
   "source": [
    "resultdf = pd.DataFrame(results,columns=['system','% successful trials','% 1st click success','av. clicks',\\\n",
    "                                        '% successful Test A','% successful Test B','% successful Test C'])"
   ]
  },
  {
   "cell_type": "code",
   "execution_count": 18,
   "metadata": {
    "collapsed": false
   },
   "outputs": [
    {
     "data": {
      "text/html": [
       "<div>\n",
       "<table border=\"1\" class=\"dataframe\">\n",
       "  <thead>\n",
       "    <tr style=\"text-align: right;\">\n",
       "      <th></th>\n",
       "      <th>system</th>\n",
       "      <th>% successful trials</th>\n",
       "      <th>% 1st click success</th>\n",
       "      <th>av. clicks</th>\n",
       "      <th>% successful Test A</th>\n",
       "      <th>% successful Test B</th>\n",
       "      <th>% successful Test C</th>\n",
       "    </tr>\n",
       "  </thead>\n",
       "  <tbody>\n",
       "    <tr>\n",
       "      <th>0</th>\n",
       "      <td>gold</td>\n",
       "      <td>0.985348</td>\n",
       "      <td>0.901099</td>\n",
       "      <td>1.153846</td>\n",
       "      <td>0.989899</td>\n",
       "      <td>0.989796</td>\n",
       "      <td>0.973684</td>\n",
       "    </tr>\n",
       "    <tr>\n",
       "      <th>1</th>\n",
       "      <td>saia</td>\n",
       "      <td>0.454212</td>\n",
       "      <td>0.322344</td>\n",
       "      <td>2.131868</td>\n",
       "      <td>0.373626</td>\n",
       "      <td>0.636364</td>\n",
       "      <td>0.361702</td>\n",
       "    </tr>\n",
       "    <tr>\n",
       "      <th>2</th>\n",
       "      <td>google</td>\n",
       "      <td>0.582418</td>\n",
       "      <td>0.413919</td>\n",
       "      <td>2.003663</td>\n",
       "      <td>0.552632</td>\n",
       "      <td>0.685393</td>\n",
       "      <td>0.518519</td>\n",
       "    </tr>\n",
       "    <tr>\n",
       "      <th>3</th>\n",
       "      <td>google_glen</td>\n",
       "      <td>0.589744</td>\n",
       "      <td>0.380952</td>\n",
       "      <td>2.036630</td>\n",
       "      <td>0.473684</td>\n",
       "      <td>0.755814</td>\n",
       "      <td>0.554348</td>\n",
       "    </tr>\n",
       "  </tbody>\n",
       "</table>\n",
       "</div>"
      ],
      "text/plain": [
       "        system  % successful trials  % 1st click success  av. clicks  \\\n",
       "0         gold             0.985348             0.901099    1.153846   \n",
       "1         saia             0.454212             0.322344    2.131868   \n",
       "2       google             0.582418             0.413919    2.003663   \n",
       "3  google_glen             0.589744             0.380952    2.036630   \n",
       "\n",
       "   % successful Test A  % successful Test B  % successful Test C  \n",
       "0             0.989899             0.989796             0.973684  \n",
       "1             0.373626             0.636364             0.361702  \n",
       "2             0.552632             0.685393             0.518519  \n",
       "3             0.473684             0.755814             0.554348  "
      ]
     },
     "execution_count": 18,
     "metadata": {},
     "output_type": "execute_result"
    }
   ],
   "source": [
    "resultdf"
   ]
  },
  {
   "cell_type": "markdown",
   "metadata": {},
   "source": [
    "## Success rate over time"
   ]
  },
  {
   "cell_type": "code",
   "execution_count": 32,
   "metadata": {
    "collapsed": false
   },
   "outputs": [],
   "source": [
    "s_time = [0]*200\n",
    "\n",
    "for f in ['log_200_r5','log_200_r6','log_200_r8']:\n",
    "    dflog = pd.read_csv('./EvalExp1/original_logs_acl2016/'+f+'_df.csv')\n",
    "    for s in range(200):\n",
    "        val = dflog['success'].iloc[s]\n",
    "        if val == 'True':\n",
    "            s_time[s] += 1\n",
    "        elif val == 'False':\n",
    "            pass\n",
    "        else:\n",
    "            s_time[s] += int(val)        \n",
    "\n",
    "y_s_time = []\n",
    "for s in range(200):\n",
    "    y_s_time.append(sum(s_time[:s+1])/(3*(s+1)))"
   ]
  },
  {
   "cell_type": "code",
   "execution_count": 33,
   "metadata": {
    "collapsed": false
   },
   "outputs": [
    {
     "data": {
      "text/plain": [
       "[<matplotlib.lines.Line2D at 0x114262050>]"
      ]
     },
     "execution_count": 33,
     "metadata": {},
     "output_type": "execute_result"
    },
    {
     "data": {
      "image/png": "[encoded data removed]",
      "text/plain": [
       "<matplotlib.figure.Figure at 0x11419ffd0>"
      ]
     },
     "metadata": {},
     "output_type": "display_data"
    }
   ],
   "source": [
    "plt.plot(range(1,201),y_s_time)"
   ]
  },
  {
   "cell_type": "markdown",
   "metadata": {},
   "source": [
    "# Experiment 2"
   ]
  },
  {
   "cell_type": "markdown",
   "metadata": {},
   "source": [
    "* first read in all the log files\n",
    "\n",
    "* you might need to adapt the file names/path"
   ]
  },
  {
   "cell_type": "code",
   "execution_count": 52,
   "metadata": {
    "collapsed": false
   },
   "outputs": [
    {
     "name": "stdout",
     "output_type": "stream",
     "text": [
      "log_ia_300_r1\n",
      "log_ia_300_r2\n"
     ]
    }
   ],
   "source": [
    "flist = ['log_ia_300_r1','log_ia_300_r2']\n",
    "logs = []\n",
    "for f in flist:\n",
    "    dflog = pd.read_csv('./EvalExp2/original_logs_acl2016/'+f+'_df.csv')\n",
    "    print f\n",
    "    dflog['log'] = [f]*len(dflog)\n",
    "    dflog['system'] = ['context-aware']*len(dflog)\n",
    "    logs.append(dflog)\n"
   ]
  },
  {
   "cell_type": "code",
   "execution_count": 53,
   "metadata": {
    "collapsed": false
   },
   "outputs": [
    {
     "name": "stdout",
     "output_type": "stream",
     "text": [
      "log_ia_bl_200_r3\n",
      "log_ia_bl_200_r4\n",
      "log_ia_bl_200_r5\n"
     ]
    }
   ],
   "source": [
    "flist = ['log_ia_bl_200_r3','log_ia_bl_200_r4','log_ia_bl_200_r5']\n",
    "for f in flist:\n",
    "    dflog = pd.read_csv('./EvalExp2/original_logs_acl2016/'+f+'_df.csv')\n",
    "    print f\n",
    "    dflog['log'] = [f]*len(dflog)\n",
    "    dflog['system'] = ['pattern-based']*len(dflog)\n",
    "    logs.append(dflog)"
   ]
  },
  {
   "cell_type": "code",
   "execution_count": 54,
   "metadata": {
    "collapsed": true
   },
   "outputs": [],
   "source": [
    "all_logs = pd.concat(logs)\n",
    "suc = []\n",
    "for s in all_logs['success']:\n",
    "    if s == True:\n",
    "        suc.append('True')\n",
    "    elif s == False:\n",
    "        suc.append('False')\n",
    "    elif s == '0':\n",
    "        suc.append('False')\n",
    "    else:\n",
    "        suc.append(s)\n",
    "all_logs['success'] = suc\n"
   ]
  },
  {
   "cell_type": "code",
   "execution_count": 55,
   "metadata": {
    "collapsed": false
   },
   "outputs": [
    {
     "data": {
      "text/html": [
       "<div>\n",
       "<table border=\"1\" class=\"dataframe\">\n",
       "  <thead>\n",
       "    <tr style=\"text-align: right;\">\n",
       "      <th></th>\n",
       "      <th>Unnamed: 0</th>\n",
       "      <th>clicks</th>\n",
       "      <th>file</th>\n",
       "      <th>lastClick</th>\n",
       "      <th>log</th>\n",
       "      <th>ref1</th>\n",
       "      <th>ref2</th>\n",
       "      <th>ref3</th>\n",
       "      <th>refexp</th>\n",
       "      <th>reftype</th>\n",
       "      <th>region</th>\n",
       "      <th>start</th>\n",
       "      <th>success</th>\n",
       "      <th>system</th>\n",
       "      <th>testset</th>\n",
       "    </tr>\n",
       "  </thead>\n",
       "  <tbody>\n",
       "    <tr>\n",
       "      <th>0</th>\n",
       "      <td>0</td>\n",
       "      <td>1</td>\n",
       "      <td>8756</td>\n",
       "      <td>2.007509</td>\n",
       "      <td>log_ia_300_r1</td>\n",
       "      <td>NaN</td>\n",
       "      <td>NaN</td>\n",
       "      <td>NaN</td>\n",
       "      <td>('guy in the middle in front', 'guy in the mid...</td>\n",
       "      <td>test</td>\n",
       "      <td>10</td>\n",
       "      <td>0.000000</td>\n",
       "      <td>True</td>\n",
       "      <td>context-aware</td>\n",
       "      <td>T</td>\n",
       "    </tr>\n",
       "    <tr>\n",
       "      <th>1</th>\n",
       "      <td>1</td>\n",
       "      <td>3</td>\n",
       "      <td>9415</td>\n",
       "      <td>2.420646</td>\n",
       "      <td>log_ia_300_r1</td>\n",
       "      <td>NaN</td>\n",
       "      <td>NaN</td>\n",
       "      <td>NaN</td>\n",
       "      <td>('orange thing on left', 'doorway or house thi...</td>\n",
       "      <td>a2</td>\n",
       "      <td>12</td>\n",
       "      <td>2.186790</td>\n",
       "      <td>False</td>\n",
       "      <td>context-aware</td>\n",
       "      <td>A</td>\n",
       "    </tr>\n",
       "    <tr>\n",
       "      <th>2</th>\n",
       "      <td>2</td>\n",
       "      <td>2</td>\n",
       "      <td>7063</td>\n",
       "      <td>2.582398</td>\n",
       "      <td>log_ia_300_r1</td>\n",
       "      <td>NaN</td>\n",
       "      <td>NaN</td>\n",
       "      <td>NaN</td>\n",
       "      <td>('bottom left', 'ground bottom left corner', '...</td>\n",
       "      <td>a1</td>\n",
       "      <td>4</td>\n",
       "      <td>2.473041</td>\n",
       "      <td>True</td>\n",
       "      <td>context-aware</td>\n",
       "      <td>A</td>\n",
       "    </tr>\n",
       "    <tr>\n",
       "      <th>3</th>\n",
       "      <td>3</td>\n",
       "      <td>2</td>\n",
       "      <td>37098</td>\n",
       "      <td>2.819412</td>\n",
       "      <td>log_ia_300_r1</td>\n",
       "      <td>NaN</td>\n",
       "      <td>NaN</td>\n",
       "      <td>NaN</td>\n",
       "      <td>('car in middle left', 'van or car in middle l...</td>\n",
       "      <td>a2</td>\n",
       "      <td>3</td>\n",
       "      <td>2.626567</td>\n",
       "      <td>True</td>\n",
       "      <td>context-aware</td>\n",
       "      <td>A</td>\n",
       "    </tr>\n",
       "    <tr>\n",
       "      <th>4</th>\n",
       "      <td>4</td>\n",
       "      <td>1</td>\n",
       "      <td>40188</td>\n",
       "      <td>2.953601</td>\n",
       "      <td>log_ia_300_r1</td>\n",
       "      <td>NaN</td>\n",
       "      <td>NaN</td>\n",
       "      <td>NaN</td>\n",
       "      <td>('in front', 'guy in front center', 'animal or...</td>\n",
       "      <td>a1</td>\n",
       "      <td>1</td>\n",
       "      <td>2.873322</td>\n",
       "      <td>True</td>\n",
       "      <td>context-aware</td>\n",
       "      <td>A</td>\n",
       "    </tr>\n",
       "  </tbody>\n",
       "</table>\n",
       "</div>"
      ],
      "text/plain": [
       "   Unnamed: 0  clicks   file  lastClick            log ref1 ref2 ref3  \\\n",
       "0           0       1   8756   2.007509  log_ia_300_r1  NaN  NaN  NaN   \n",
       "1           1       3   9415   2.420646  log_ia_300_r1  NaN  NaN  NaN   \n",
       "2           2       2   7063   2.582398  log_ia_300_r1  NaN  NaN  NaN   \n",
       "3           3       2  37098   2.819412  log_ia_300_r1  NaN  NaN  NaN   \n",
       "4           4       1  40188   2.953601  log_ia_300_r1  NaN  NaN  NaN   \n",
       "\n",
       "                                              refexp reftype  region  \\\n",
       "0  ('guy in the middle in front', 'guy in the mid...    test      10   \n",
       "1  ('orange thing on left', 'doorway or house thi...      a2      12   \n",
       "2  ('bottom left', 'ground bottom left corner', '...      a1       4   \n",
       "3  ('car in middle left', 'van or car in middle l...      a2       3   \n",
       "4  ('in front', 'guy in front center', 'animal or...      a1       1   \n",
       "\n",
       "      start success         system testset  \n",
       "0  0.000000    True  context-aware       T  \n",
       "1  2.186790   False  context-aware       A  \n",
       "2  2.473041    True  context-aware       A  \n",
       "3  2.626567    True  context-aware       A  \n",
       "4  2.873322    True  context-aware       A  "
      ]
     },
     "execution_count": 55,
     "metadata": {},
     "output_type": "execute_result"
    }
   ],
   "source": [
    "all_logs.head()"
   ]
  },
  {
   "cell_type": "markdown",
   "metadata": {},
   "source": [
    "* calculate various measures of referential success"
   ]
  },
  {
   "cell_type": "code",
   "execution_count": 56,
   "metadata": {
    "collapsed": false
   },
   "outputs": [
    {
     "name": "stdout",
     "output_type": "stream",
     "text": [
      "pattern-based\n",
      "488 603 766\n",
      "Overall success rate 0.809286898839\n",
      "First trial success rate 0.467661691542\n",
      "Average clicks in succseful trials 1.56967213115\n",
      "Average clicks 1.83250414594\n",
      "A 160 198 0.808080808081\n",
      "B 167 198 0.843434343434\n",
      "C 158 204 0.774509803922\n",
      "context-aware\n",
      "518 602 799\n",
      "Overall success rate 0.860465116279\n",
      "First trial success rate 0.504983388704\n",
      "Average clicks in succseful trials 1.54247104247\n",
      "Average clicks 1.74086378738\n",
      "A 172 200 0.86\n",
      "B 175 200 0.875\n",
      "C 169 200 0.845\n"
     ]
    }
   ],
   "source": [
    "total_success = []\n",
    "first_success = []\n",
    "second_success = []\n",
    "\n",
    "a_success = []\n",
    "b_success = []\n",
    "c_success = []\n",
    "\n",
    "for system in ['pattern-based','context-aware']:\n",
    "    print system\n",
    "    succ = len(all_logs[(all_logs['system'] == system) & (all_logs['success'] == 'True')])\n",
    "    first_succ = len(all_logs[(all_logs['system'] == system) & (all_logs['success'] == 'True') & (all_logs['clicks'] == 1)])\n",
    "    second_succ = len(all_logs[(all_logs['system'] == system) & (all_logs['success'] == 'True') & (all_logs['clicks'] <= 2)])\n",
    "\n",
    "    \n",
    "    succa = len(all_logs[(all_logs['system'] == system) & (all_logs['success'] == 'True') \\\n",
    "                         & (all_logs['testset'] == 'A')])\n",
    "    totala = len(all_logs[(all_logs['system'] == system) & (all_logs['testset'] == 'A')])\n",
    "    succ = len(all_logs[(all_logs['system'] == system) & (all_logs['success'] == 'True')])\n",
    "    succb = len(all_logs[(all_logs['system'] == system) & (all_logs['success'] == 'True') \\\n",
    "                         & (all_logs['testset'] == 'B')])\n",
    "    totalb = len(all_logs[(all_logs['system'] == system) & (all_logs['testset'] == 'B')])\n",
    "    succc = len(all_logs[(all_logs['system'] == system) & (all_logs['success'] == 'True') \\\n",
    "                         & (all_logs['testset'] == 'C')])\n",
    "    totalc = len(all_logs[(all_logs['system'] == system) & (all_logs['testset'] == 'C')])\n",
    "    \n",
    "    total = len(all_logs[(all_logs['system'] == system)])\n",
    "    clicks = sum(all_logs[(all_logs['system'] == system) & (all_logs['success'] == 'True')]['clicks'])\n",
    "    allclicks = sum(all_logs[(all_logs['system'] == system) ]['clicks'])\n",
    "    \n",
    "    print succ,total,clicks\n",
    "    print \"Overall success rate\", succ/float(total)\n",
    "    print \"First trial success rate\", first_succ/float(total)\n",
    "    print \"Average clicks in succseful trials\", clicks/float(succ)\n",
    "    print \"Average clicks\",allclicks/float(total)\n",
    "    print \"A\",succa,totala,succa/float(totala)\n",
    "    print \"B\",succb,totalb,succb/float(totalb)\n",
    "    print \"C\",succc,totalc,succc/float(totalc)\n",
    "    \n",
    "    total_success.append(succ/float(total))\n",
    "    first_success.append(first_succ/float(total))\n",
    "    second_success.append(second_succ/float(total))\n",
    "    \n",
    "    a_success.append(succa/float(totala))\n",
    "    b_success.append(succb/float(totalb))\n",
    "    c_success.append(succc/float(totalc))\n",
    "    \n",
    "systems = ['pattern-based','context-aware']\n",
    "d = {'total_success':pd.Series(total_success,index=systems), \\\n",
    "     'first_success':pd.Series(first_success,index=systems), \\\n",
    "     'second_success':pd.Series(second_success,index=systems), \\\n",
    "     'A_success':pd.Series(a_success,index=systems),\\\n",
    "     'B_success':pd.Series(b_success,index=systems),\\\n",
    "     'C_success':pd.Series(c_success,index=systems)}\n",
    "\n",
    "evaldf = pd.DataFrame(d)"
   ]
  },
  {
   "cell_type": "code",
   "execution_count": 48,
   "metadata": {
    "collapsed": false
   },
   "outputs": [
    {
     "data": {
      "text/html": [
       "<div>\n",
       "<table border=\"1\" class=\"dataframe\">\n",
       "  <thead>\n",
       "    <tr style=\"text-align: right;\">\n",
       "      <th></th>\n",
       "      <th>A_success</th>\n",
       "      <th>B_success</th>\n",
       "      <th>C_success</th>\n",
       "      <th>first_success</th>\n",
       "      <th>second_success</th>\n",
       "      <th>total_success</th>\n",
       "    </tr>\n",
       "  </thead>\n",
       "  <tbody>\n",
       "    <tr>\n",
       "      <th>pattern-based</th>\n",
       "      <td>0.808081</td>\n",
       "      <td>0.843434</td>\n",
       "      <td>0.77451</td>\n",
       "      <td>0.467662</td>\n",
       "      <td>0.691542</td>\n",
       "      <td>0.809287</td>\n",
       "    </tr>\n",
       "    <tr>\n",
       "      <th>context-aware</th>\n",
       "      <td>0.860000</td>\n",
       "      <td>0.875000</td>\n",
       "      <td>0.84500</td>\n",
       "      <td>0.504983</td>\n",
       "      <td>0.749169</td>\n",
       "      <td>0.860465</td>\n",
       "    </tr>\n",
       "  </tbody>\n",
       "</table>\n",
       "</div>"
      ],
      "text/plain": [
       "               A_success  B_success  C_success  first_success  second_success  \\\n",
       "pattern-based   0.808081   0.843434    0.77451       0.467662        0.691542   \n",
       "context-aware   0.860000   0.875000    0.84500       0.504983        0.749169   \n",
       "\n",
       "               total_success  \n",
       "pattern-based       0.809287  \n",
       "context-aware       0.860465  "
      ]
     },
     "execution_count": 48,
     "metadata": {},
     "output_type": "execute_result"
    }
   ],
   "source": [
    "evaldf"
   ]
  },
  {
   "cell_type": "markdown",
   "metadata": {},
   "source": [
    "## Learning Curves"
   ]
  },
  {
   "cell_type": "markdown",
   "metadata": {},
   "source": [
    "* now calculate success rates over time"
   ]
  },
  {
   "cell_type": "code",
   "execution_count": 50,
   "metadata": {
    "collapsed": false
   },
   "outputs": [],
   "source": [
    "s_time = [0]*200\n",
    "\n",
    "for f in ['log_ia_300_r1','log_ia_300_r2']:\n",
    "    dflog = pd.read_csv('./EvalExp2/original_logs_Acl2016/'+f+'_df.csv')\n",
    "    for s in range(200):\n",
    "        val = dflog['success'].iloc[s]\n",
    "        if val == 'True':\n",
    "            s_time[s] += 1\n",
    "        elif val == 'False':\n",
    "            pass\n",
    "        else:\n",
    "            s_time[s] += int(val)        \n",
    "\n",
    "y_s_time = []\n",
    "for s in range(200):\n",
    "    y_s_time.append(sum(s_time[:s+1])/(2*(s+1)))\n",
    "    \n",
    "s_time = [0]*200\n",
    "\n",
    "for f in ['log_ia_bl_200_r3','log_ia_bl_200_r4','log_ia_bl_200_r5']:\n",
    "    dflog = pd.read_csv('./EvalExp2/original_logs_acl2016/'+f+'_df.csv')\n",
    "    for s in range(200):\n",
    "        val = dflog['success'].iloc[s]\n",
    "        if val == 'True':\n",
    "            s_time[s] += 1\n",
    "        elif val == 'False':\n",
    "            pass\n",
    "        else:\n",
    "            s_time[s] += int(val)        \n",
    "\n",
    "y_s_time_bl = []\n",
    "for s in range(200):\n",
    "    y_s_time_bl.append(sum(s_time[:s+1])/(3*(s+1)))\n",
    "    \n",
    "s_time = [0]*200\n",
    "\n",
    "for f in ['log_200_r5','log_200_r6','log_200_r8']:\n",
    "    dflog = pd.read_csv('./EvalExp1/original_logs_acl2016/'+f+'_df.csv')\n",
    "    for s in range(200):\n",
    "        val = dflog['success'].iloc[s]\n",
    "        if val == 'True':\n",
    "            s_time[s] += 1\n",
    "        elif val == 'False':\n",
    "            pass\n",
    "        else:\n",
    "            s_time[s] += int(val)        \n",
    "\n",
    "y_s_time_no = []\n",
    "for s in range(200):\n",
    "    y_s_time_no.append(sum(s_time[:s+1])/(3*(s+1)))"
   ]
  },
  {
   "cell_type": "code",
   "execution_count": 51,
   "metadata": {
    "collapsed": false
   },
   "outputs": [
    {
     "data": {
      "image/png": "[encoded data removed]",
      "text/plain": [
       "<matplotlib.figure.Figure at 0x1144ca150>"
      ]
     },
     "metadata": {},
     "output_type": "display_data"
    }
   ],
   "source": [
    "plt.plot(range(1,201),y_s_time,label=\"Context installments\")\n",
    "plt.plot(range(1,201),y_s_time_bl,linestyle=\"dashed\",lw=2,label=\"Simple installments\")\n",
    "plt.plot(range(1,201),y_s_time_no,linestyle=\"dashdot\",lw=3,label=\"One-shot\")\n",
    "plt.xlabel(\"# Game\",fontsize=15)\n",
    "plt.ylabel(\"% Accuracy\",fontsize=15)\n",
    "plt.ylim(0.5,1.2)\n",
    "plt.legend(fontsize=15)\n",
    "plt.savefig(\"learningcurves.pdf\")"
   ]
  },
  {
   "cell_type": "code",
   "execution_count": null,
   "metadata": {
    "collapsed": true
   },
   "outputs": [],
   "source": []
  }
 ],
 "metadata": {
  "kernelspec": {
   "display_name": "Python 2",
   "language": "python",
   "name": "python2"
  },
  "language_info": {
   "codemirror_mode": {
    "name": "ipython",
    "version": 2
   },
   "file_extension": ".py",
   "mimetype": "text/x-python",
   "name": "python",
   "nbconvert_exporter": "python",
   "pygments_lexer": "ipython2",
   "version": "2.7.9"
  }
 },
 "nbformat": 4,
 "nbformat_minor": 2
}
